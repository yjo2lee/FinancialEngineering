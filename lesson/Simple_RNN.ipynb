{
 "cells": [
  {
   "cell_type": "code",
   "execution_count": 1,
   "metadata": {},
   "outputs": [
    {
     "name": "stderr",
     "output_type": "stream",
     "text": [
      "/Users/yjlee/anaconda3/lib/python3.6/site-packages/h5py/__init__.py:36: FutureWarning: Conversion of the second argument of issubdtype from `float` to `np.floating` is deprecated. In future, it will be treated as `np.float64 == np.dtype(float).type`.\n",
      "  from ._conv import register_converters as _register_converters\n"
     ]
    }
   ],
   "source": [
    "import tensorflow as tf\n",
    "import numpy as np\n",
    "import matplotlib as mpl\n",
    "import matplotlib.pyplot as plt"
   ]
  },
  {
   "cell_type": "code",
   "execution_count": 44,
   "metadata": {},
   "outputs": [],
   "source": [
    "def sin(x, T=100):\n",
    "    return np.sin(2.0*np.pi*x/T)"
   ]
  },
  {
   "cell_type": "code",
   "execution_count": 45,
   "metadata": {},
   "outputs": [
    {
     "data": {
      "text/plain": [
       "array([0.06279052, 0.12533323, 0.18738131, 0.24868989, 0.30901699])"
      ]
     },
     "execution_count": 45,
     "metadata": {},
     "output_type": "execute_result"
    }
   ],
   "source": [
    "x = np.array([1,2,3,4,5])\n",
    "sin(x)"
   ]
  },
  {
   "cell_type": "code",
   "execution_count": 46,
   "metadata": {},
   "outputs": [],
   "source": [
    "def toy_problem(T=100, ampl=0.05):\n",
    "    x = np.arange(0, 2*T + 1)\n",
    "    noise = ampl * np.random.uniform(low=-1.0, high=1.0, size=len(x))\n",
    "    return sin(x) + noise"
   ]
  },
  {
   "cell_type": "code",
   "execution_count": 47,
   "metadata": {},
   "outputs": [
    {
     "data": {
      "text/plain": [
       "[<matplotlib.lines.Line2D at 0x1c2b545f60>]"
      ]
     },
     "execution_count": 47,
     "metadata": {},
     "output_type": "execute_result"
    },
    {
     "data": {
      "image/png": "[encoded data removed]",
      "text/plain": [
       "<Figure size 432x288 with 1 Axes>"
      ]
     },
     "metadata": {},
     "output_type": "display_data"
    }
   ],
   "source": [
    "T=100\n",
    "f = toy_problem(T)\n",
    "x=np.arange(0, 2*T + 1)\n",
    "plt.plot(x, f)\n"
   ]
  },
  {
   "cell_type": "code",
   "execution_count": 48,
   "metadata": {},
   "outputs": [],
   "source": [
    "length_of_sequences = 2*T\n",
    "maxlen = 25\n",
    "\n",
    "data = []\n",
    "target = []\n",
    "\n",
    "for i in range(0, length_of_sequences - maxlen +1):\n",
    "    data.append(f[i:i+maxlen])\n",
    "    target.append(f[i+maxlen])\n",
    "    \n",
    "X = np.array(data).reshape(len(data), maxlen, 1)"
   ]
  },
  {
   "cell_type": "code",
   "execution_count": null,
   "metadata": {},
   "outputs": [],
   "source": [
    "X.shape"
   ]
  },
  {
   "cell_type": "code",
   "execution_count": 49,
   "metadata": {},
   "outputs": [],
   "source": [
    "Y = np.array(target).reshape(len(data), 1)"
   ]
  },
  {
   "cell_type": "code",
   "execution_count": null,
   "metadata": {},
   "outputs": [],
   "source": [
    "X.shape"
   ]
  },
  {
   "cell_type": "code",
   "execution_count": 50,
   "metadata": {},
   "outputs": [],
   "source": [
    "import numpy as np\n",
    "from sklearn.model_selection import train_test_split\n",
    "N_train = int(len(data)*0.9)\n",
    "N_validation = len(data)-N_train\n",
    "X_train, X_validation, Y_train, Y_validation = train_test_split(X, Y, test_size=N_validation)"
   ]
  },
  {
   "cell_type": "code",
   "execution_count": null,
   "metadata": {},
   "outputs": [],
   "source": [
    "X_train.shape"
   ]
  },
  {
   "cell_type": "code",
   "execution_count": 51,
   "metadata": {},
   "outputs": [
    {
     "data": {
      "text/plain": [
       "array([[0., 0.],\n",
       "       [0., 0.],\n",
       "       [0., 0.],\n",
       "       [0., 0.],\n",
       "       [0., 0.]], dtype=float32)"
      ]
     },
     "execution_count": 51,
     "metadata": {},
     "output_type": "execute_result"
    }
   ],
   "source": [
    "### This is an independent example for zero_state command!\n",
    "n_hidden=2\n",
    "n_batch=5\n",
    "init = tf.global_variables_initializer()\n",
    "sess = tf.Session()\n",
    "cell = tf.contrib.rnn.BasicRNNCell(n_hidden)\n",
    "initial_state = cell.zero_state(n_batch, tf.float32) #need special case here!!!\n",
    "sess.run(init)\n",
    "sess.run(initial_state)\n"
   ]
  },
  {
   "cell_type": "markdown",
   "metadata": {},
   "source": []
  },
  {
   "cell_type": "code",
   "execution_count": 11,
   "metadata": {},
   "outputs": [],
   "source": [
    "#############################\n",
    "def inference(x, n_batch, maxlen = None, n_hidden = None, n_out = None): # input은 25차원 a는 30차원 y는 1차원 데이터수는 176개입니다.\n",
    "    def weight_variable(shape):\n",
    "        return tf.Variable(tf.truncated_normal(shape, stddev=0.01)) # 초기화해주기\n",
    "    def bias_variable(shape):\n",
    "        return tf.Variable(tf.zeros(shape))\n",
    "    \n",
    "    #cell = tf.contrib.rnn.BasicRNNCell(n_hidden)   # RNN에서 basic cell  -> tf 로 바꾸자\n",
    "    #initial_state = cell.zero_state(n_batch, tf.float32) # initial state 176x30 \n",
    "    #state = initial_state # 코드에서는... state로 쓰므로...\n",
    "    init_state = tf.zeros(shape = (n_batch, n_hidden))\n",
    "    state = init_state\n",
    "    \n",
    "    outputs = []\n",
    "    n_in = 1; n_out = 1\n",
    "    Wxh = tf.get_variable('Wxh', shape = (n_in, n_hidden),\n",
    "                         initializer = tf.contrib.layers.xavier_initializer(), dtype = tf.float32)\n",
    "    Whh = tf.get_variable('Whh', shape = (n_hidden, n_hidden),\n",
    "                         initializer = tf.contrib.layers.xavier_initializer(), dtype = tf.float32)\n",
    "    bh = tf.get_variable('bh', shape = (1, n_hidden),\n",
    "                         initializer = tf.contrib.layers.xavier_initializer(), dtype = tf.float32)\n",
    "    \n",
    "\n",
    "    for t in range(maxlen):   # 25번\n",
    "        state = tf.tanh(tf.matmul(x[:,t,:], Wxh) + tf.matmul(state, Whh)+bh)\n",
    "        # x(176, 1)*Wxh(1,30) + h(176, 30)*(30,30) + b => h(176,30)\n",
    "        outputs.append(state)\n",
    "    output = outputs[-1] # output은 모든 a 값 중에서 제일 마지막 꺼\n",
    "    \n",
    "    \n",
    "    V = weight_variable([n_hidden, n_out])  # 30x1 \n",
    "    c = bias_variable([n_out])\n",
    "    y = tf.matmul(output, V) + c       # a= y(176x30) W(30x1) + b 를 최종 y로 쓴다\n",
    "    return y"
   ]
  },
  {
   "cell_type": "code",
   "execution_count": 30,
   "metadata": {},
   "outputs": [],
   "source": [
    "def inference(x, n_batch, maxlen = None, n_hidden = None, n_out = None): # input은 25차원 a는 30차원 y는 1차원 데이터수는 176개입니다.\n",
    "    def weight_variable(shape):\n",
    "        return tf.Variable(tf.truncated_normal(shape, stddev=0.01)) # 초기화해주기\n",
    "    def bias_variable(shape):\n",
    "        return tf.Variable(tf.zeros(shape))\n",
    "    \n",
    "    cell = tf.contrib.rnn.BasicRNNCell(n_hidden)   # RNN에서 basic cell  -> tf 로 바꾸자\n",
    "    initial_state = cell.zero_state(n_batch, tf.float32) # initial state 176x30 \n",
    "    state = initial_state # 코드에서는... state로 쓰므로...\n",
    "    \n",
    "    outputs = []\n",
    "    \n",
    "    with tf.variable_scope(\"RNN\"):  #  RNN의 시작 . 이 안에서 cell이 25번 돌아갈거다. RNN에서 발생되는 variable이 share 되고\n",
    "        for t in range(maxlen):   # 25번\n",
    "            \n",
    "            if t>0: # 첫번째 이후로는 variable 재사용하겠다고 선언해주어야..\n",
    "                tf.get_variable_scope().reuse_variables()\n",
    "                \n",
    "            (cell_output, state) = cell(x[:, t, :], state)  # 둘다 a<t> 인데 LSTM이랑 비슷하게 해주려고 둘다 썼을 뿐\n",
    "            # cell에서 x와 초기state인 (0,0,,,0)을 받아서 cell_output은 y, state는 a 인데, 각각마다 y와 a를 받겠다. \n",
    "            # HW: cell 명령어를 안쓰고 W_aa W_xa 이런거 정의해주어서 tensorflow로 구현하는것 (with 부터 이 다음줄까지만 수정하면 ok)\n",
    "            outputs.append(cell_output)\n",
    "            \n",
    "    output = outputs[-1] # output은 모든 a 값 중에서 제일 마지막 꺼\n",
    "    \n",
    "    \n",
    "    V = weight_variable([n_hidden, n_out])  # 30x1 \n",
    "    c = bias_variable([n_out])\n",
    "    y = tf.matmul(output, V) + c       # a= y(176x30) W(30x1) + b 를 최종 y로 쓴다\n",
    "    return y"
   ]
  },
  {
   "cell_type": "code",
   "execution_count": 13,
   "metadata": {},
   "outputs": [],
   "source": [
    "n_in = 1; n_out = 1"
   ]
  },
  {
   "cell_type": "code",
   "execution_count": 31,
   "metadata": {},
   "outputs": [],
   "source": [
    "x = tf.placeholder(tf.float32, shape=[None, maxlen, n_in])\n",
    "t = tf.placeholder(tf.float32, shape=[None, n_out])\n",
    "n_batch = tf.placeholder(tf.int32, shape=[])"
   ]
  },
  {
   "cell_type": "code",
   "execution_count": null,
   "metadata": {},
   "outputs": [],
   "source": [
    "# V = tf.Variable(tf.truncated_normal([n_hidden, n_out], stddev=0.01))\n",
    "# c = tf.Variable( tf.zeros([n_out], dtype=tf.float32) )\n"
   ]
  },
  {
   "cell_type": "code",
   "execution_count": 32,
   "metadata": {},
   "outputs": [],
   "source": [
    "y = inference(x,n_batch=n_batch, maxlen=maxlen, n_hidden=n_hidden, n_out=n_out)"
   ]
  },
  {
   "cell_type": "code",
   "execution_count": 33,
   "metadata": {},
   "outputs": [],
   "source": [
    "def loss(y, t):\n",
    "    mse = tf.reduce_mean(tf.square(y-t))\n",
    "    return mse\n",
    "\n",
    "\n",
    "def training(loss):\n",
    "    optimizer = tf.train.AdamOptimizer(learning_rate=0.001, beta1=0.9, beta2=0.999)\n",
    "    train_step = optimizer.minimize(loss)\n",
    "    return train_step\n",
    "\n",
    "loss = loss(y,t)\n",
    "train_step = training(loss)"
   ]
  },
  {
   "cell_type": "code",
   "execution_count": 34,
   "metadata": {},
   "outputs": [],
   "source": [
    "epochs = 500\n",
    "batch_size = 10\n",
    "\n",
    "init = tf.global_variables_initializer()\n",
    "sess = tf.Session()\n",
    "sess.run(init)\n",
    "\n",
    "n_batches = N_train // batch_size\n",
    "from sklearn.utils import shuffle"
   ]
  },
  {
   "cell_type": "code",
   "execution_count": 35,
   "metadata": {},
   "outputs": [
    {
     "name": "stdout",
     "output_type": "stream",
     "text": [
      "epoch: 0 validation loss: 0.40596968\n",
      "epoch: 1 validation loss: 0.40508565\n",
      "epoch: 2 validation loss: 0.40416443\n",
      "epoch: 3 validation loss: 0.40322712\n",
      "epoch: 4 validation loss: 0.40228516\n",
      "epoch: 5 validation loss: 0.4013551\n",
      "epoch: 6 validation loss: 0.40041023\n",
      "epoch: 7 validation loss: 0.39946708\n",
      "epoch: 8 validation loss: 0.39852488\n",
      "epoch: 9 validation loss: 0.39756453\n",
      "epoch: 10 validation loss: 0.39658487\n",
      "epoch: 11 validation loss: 0.39561626\n",
      "epoch: 12 validation loss: 0.3946711\n",
      "epoch: 13 validation loss: 0.393726\n",
      "epoch: 14 validation loss: 0.39275727\n",
      "epoch: 15 validation loss: 0.39179313\n",
      "epoch: 16 validation loss: 0.39085427\n",
      "epoch: 17 validation loss: 0.38991335\n",
      "epoch: 18 validation loss: 0.38898325\n",
      "epoch: 19 validation loss: 0.3880623\n",
      "epoch: 20 validation loss: 0.38711566\n",
      "epoch: 21 validation loss: 0.38616544\n",
      "epoch: 22 validation loss: 0.38520637\n",
      "epoch: 23 validation loss: 0.38426745\n",
      "epoch: 24 validation loss: 0.38330495\n",
      "epoch: 25 validation loss: 0.38232666\n",
      "epoch: 26 validation loss: 0.3813449\n",
      "epoch: 27 validation loss: 0.38038513\n",
      "epoch: 28 validation loss: 0.37940365\n",
      "epoch: 29 validation loss: 0.37844115\n",
      "epoch: 30 validation loss: 0.3774309\n",
      "epoch: 31 validation loss: 0.3764317\n",
      "epoch: 32 validation loss: 0.3754071\n",
      "epoch: 33 validation loss: 0.37437814\n",
      "epoch: 34 validation loss: 0.37335888\n",
      "epoch: 35 validation loss: 0.3723452\n",
      "epoch: 36 validation loss: 0.37134805\n",
      "epoch: 37 validation loss: 0.37033045\n",
      "epoch: 38 validation loss: 0.3693319\n",
      "epoch: 39 validation loss: 0.36832678\n",
      "epoch: 40 validation loss: 0.36731803\n",
      "epoch: 41 validation loss: 0.36629853\n",
      "epoch: 42 validation loss: 0.36528927\n",
      "epoch: 43 validation loss: 0.3642603\n",
      "epoch: 44 validation loss: 0.36323032\n",
      "epoch: 45 validation loss: 0.3621854\n",
      "epoch: 46 validation loss: 0.36114588\n",
      "epoch: 47 validation loss: 0.3600967\n",
      "epoch: 48 validation loss: 0.35903725\n",
      "epoch: 49 validation loss: 0.3579576\n",
      "epoch: 50 validation loss: 0.35686654\n",
      "epoch: 51 validation loss: 0.35579816\n",
      "epoch: 52 validation loss: 0.35474506\n",
      "epoch: 53 validation loss: 0.35368687\n",
      "epoch: 54 validation loss: 0.3526151\n",
      "epoch: 55 validation loss: 0.35154352\n",
      "epoch: 56 validation loss: 0.35044897\n",
      "epoch: 57 validation loss: 0.3493834\n",
      "epoch: 58 validation loss: 0.34830764\n",
      "epoch: 59 validation loss: 0.34725562\n",
      "epoch: 60 validation loss: 0.3462005\n",
      "epoch: 61 validation loss: 0.34514555\n",
      "epoch: 62 validation loss: 0.3440846\n",
      "epoch: 63 validation loss: 0.34299773\n",
      "epoch: 64 validation loss: 0.3419179\n",
      "epoch: 65 validation loss: 0.3407987\n",
      "epoch: 66 validation loss: 0.33966735\n",
      "epoch: 67 validation loss: 0.3385631\n",
      "epoch: 68 validation loss: 0.33746222\n",
      "epoch: 69 validation loss: 0.33632413\n",
      "epoch: 70 validation loss: 0.33522484\n",
      "epoch: 71 validation loss: 0.33412305\n",
      "epoch: 72 validation loss: 0.3329835\n",
      "epoch: 73 validation loss: 0.33182666\n",
      "epoch: 74 validation loss: 0.3306991\n",
      "epoch: 75 validation loss: 0.3295385\n",
      "epoch: 76 validation loss: 0.3283922\n",
      "epoch: 77 validation loss: 0.3272227\n",
      "epoch: 78 validation loss: 0.32606184\n",
      "epoch: 79 validation loss: 0.3248998\n",
      "epoch: 80 validation loss: 0.3237329\n",
      "epoch: 81 validation loss: 0.32253456\n",
      "epoch: 82 validation loss: 0.321332\n",
      "epoch: 83 validation loss: 0.32013482\n",
      "epoch: 84 validation loss: 0.3189381\n",
      "epoch: 85 validation loss: 0.31775603\n",
      "epoch: 86 validation loss: 0.31661317\n",
      "epoch: 87 validation loss: 0.31546706\n",
      "epoch: 88 validation loss: 0.31432986\n",
      "epoch: 89 validation loss: 0.31321844\n",
      "epoch: 90 validation loss: 0.3120791\n",
      "epoch: 91 validation loss: 0.31093967\n",
      "epoch: 92 validation loss: 0.3097847\n",
      "epoch: 93 validation loss: 0.30866417\n",
      "epoch: 94 validation loss: 0.30755484\n",
      "epoch: 95 validation loss: 0.30642125\n",
      "epoch: 96 validation loss: 0.30525905\n",
      "epoch: 97 validation loss: 0.30407706\n",
      "epoch: 98 validation loss: 0.30289343\n",
      "epoch: 99 validation loss: 0.30169237\n",
      "epoch: 100 validation loss: 0.30051216\n",
      "epoch: 101 validation loss: 0.29936326\n",
      "epoch: 102 validation loss: 0.29818514\n",
      "epoch: 103 validation loss: 0.2970288\n",
      "epoch: 104 validation loss: 0.29587615\n",
      "epoch: 105 validation loss: 0.29468882\n",
      "epoch: 106 validation loss: 0.29350644\n",
      "epoch: 107 validation loss: 0.29232386\n",
      "epoch: 108 validation loss: 0.29113784\n",
      "epoch: 109 validation loss: 0.2899485\n",
      "epoch: 110 validation loss: 0.28873554\n",
      "epoch: 111 validation loss: 0.28749907\n",
      "epoch: 112 validation loss: 0.2862888\n",
      "epoch: 113 validation loss: 0.28508723\n",
      "epoch: 114 validation loss: 0.28388488\n",
      "epoch: 115 validation loss: 0.28269067\n",
      "epoch: 116 validation loss: 0.28147426\n",
      "epoch: 117 validation loss: 0.28024936\n",
      "epoch: 118 validation loss: 0.27907857\n",
      "epoch: 119 validation loss: 0.27795523\n",
      "epoch: 120 validation loss: 0.2767879\n",
      "epoch: 121 validation loss: 0.27560234\n",
      "epoch: 122 validation loss: 0.27441138\n",
      "epoch: 123 validation loss: 0.27316558\n",
      "epoch: 124 validation loss: 0.2718888\n",
      "epoch: 125 validation loss: 0.2706299\n",
      "epoch: 126 validation loss: 0.26940453\n",
      "epoch: 127 validation loss: 0.26818952\n",
      "epoch: 128 validation loss: 0.26700783\n",
      "epoch: 129 validation loss: 0.2658075\n",
      "epoch: 130 validation loss: 0.26458928\n",
      "epoch: 131 validation loss: 0.2633442\n",
      "epoch: 132 validation loss: 0.2621006\n",
      "epoch: 133 validation loss: 0.26087323\n",
      "epoch: 134 validation loss: 0.25961268\n",
      "epoch: 135 validation loss: 0.25833195\n",
      "epoch: 136 validation loss: 0.2571097\n",
      "epoch: 137 validation loss: 0.2558796\n",
      "epoch: 138 validation loss: 0.25465775\n",
      "epoch: 139 validation loss: 0.25347194\n",
      "epoch: 140 validation loss: 0.25228146\n",
      "epoch: 141 validation loss: 0.25107706\n",
      "epoch: 142 validation loss: 0.24985433\n",
      "epoch: 143 validation loss: 0.24864012\n",
      "epoch: 144 validation loss: 0.24742505\n",
      "epoch: 145 validation loss: 0.2462216\n",
      "epoch: 146 validation loss: 0.24498473\n",
      "epoch: 147 validation loss: 0.24374056\n",
      "epoch: 148 validation loss: 0.2425188\n",
      "epoch: 149 validation loss: 0.24130684\n",
      "epoch: 150 validation loss: 0.24009302\n",
      "epoch: 151 validation loss: 0.2388746\n",
      "epoch: 152 validation loss: 0.23767151\n",
      "epoch: 153 validation loss: 0.23646522\n",
      "epoch: 154 validation loss: 0.23525715\n",
      "epoch: 155 validation loss: 0.23404442\n",
      "epoch: 156 validation loss: 0.2328437\n",
      "epoch: 157 validation loss: 0.23164834\n",
      "epoch: 158 validation loss: 0.23050268\n",
      "epoch: 159 validation loss: 0.22935592\n",
      "epoch: 160 validation loss: 0.2282491\n",
      "epoch: 161 validation loss: 0.22715801\n",
      "epoch: 162 validation loss: 0.2261031\n",
      "epoch: 163 validation loss: 0.22506565\n",
      "epoch: 164 validation loss: 0.22402923\n",
      "epoch: 165 validation loss: 0.2229838\n",
      "epoch: 166 validation loss: 0.2219148\n",
      "epoch: 167 validation loss: 0.22084846\n",
      "epoch: 168 validation loss: 0.21979046\n",
      "epoch: 169 validation loss: 0.21871895\n",
      "epoch: 170 validation loss: 0.21763507\n",
      "epoch: 171 validation loss: 0.2165714\n",
      "epoch: 172 validation loss: 0.21552469\n",
      "epoch: 173 validation loss: 0.21453355\n",
      "epoch: 174 validation loss: 0.21354762\n",
      "epoch: 175 validation loss: 0.21256359\n",
      "epoch: 176 validation loss: 0.2115684\n",
      "epoch: 177 validation loss: 0.21055575\n",
      "epoch: 178 validation loss: 0.20954408\n",
      "epoch: 179 validation loss: 0.20854932\n",
      "epoch: 180 validation loss: 0.20756415\n",
      "epoch: 181 validation loss: 0.2066023\n",
      "epoch: 182 validation loss: 0.20561747\n",
      "epoch: 183 validation loss: 0.20461114\n",
      "epoch: 184 validation loss: 0.20360024\n",
      "epoch: 185 validation loss: 0.20259863\n",
      "epoch: 186 validation loss: 0.20162185\n",
      "epoch: 187 validation loss: 0.20065469\n",
      "epoch: 188 validation loss: 0.19969891\n",
      "epoch: 189 validation loss: 0.19876319\n",
      "epoch: 190 validation loss: 0.19781831\n",
      "epoch: 191 validation loss: 0.19691208\n",
      "epoch: 192 validation loss: 0.19598036\n",
      "epoch: 193 validation loss: 0.19503586\n",
      "epoch: 194 validation loss: 0.19411498\n",
      "epoch: 195 validation loss: 0.19321157\n",
      "epoch: 196 validation loss: 0.1923102\n",
      "epoch: 197 validation loss: 0.19139902\n",
      "epoch: 198 validation loss: 0.19046177\n",
      "epoch: 199 validation loss: 0.18952358\n",
      "epoch: 200 validation loss: 0.18860517\n",
      "epoch: 201 validation loss: 0.18773134\n",
      "epoch: 202 validation loss: 0.18686484\n",
      "epoch: 203 validation loss: 0.18598278\n",
      "epoch: 204 validation loss: 0.18506701\n",
      "epoch: 205 validation loss: 0.1841504\n",
      "epoch: 206 validation loss: 0.18322746\n",
      "epoch: 207 validation loss: 0.18231468\n",
      "epoch: 208 validation loss: 0.18137127\n",
      "epoch: 209 validation loss: 0.18044588\n",
      "epoch: 210 validation loss: 0.17955624\n",
      "epoch: 211 validation loss: 0.17869237\n",
      "epoch: 212 validation loss: 0.17786922\n",
      "epoch: 213 validation loss: 0.17703262\n",
      "epoch: 214 validation loss: 0.176185\n",
      "epoch: 215 validation loss: 0.17529246\n",
      "epoch: 216 validation loss: 0.17439525\n",
      "epoch: 217 validation loss: 0.17353752\n",
      "epoch: 218 validation loss: 0.1727094\n",
      "epoch: 219 validation loss: 0.17180277\n",
      "epoch: 220 validation loss: 0.17084704\n",
      "epoch: 221 validation loss: 0.16989434\n",
      "epoch: 222 validation loss: 0.16900405\n",
      "epoch: 223 validation loss: 0.16812915\n",
      "epoch: 224 validation loss: 0.16727437\n",
      "epoch: 225 validation loss: 0.16642907\n",
      "epoch: 226 validation loss: 0.16555607\n",
      "epoch: 227 validation loss: 0.16471559\n",
      "epoch: 228 validation loss: 0.1638942\n",
      "epoch: 229 validation loss: 0.16306782\n",
      "epoch: 230 validation loss: 0.16226935\n",
      "epoch: 231 validation loss: 0.16144197\n",
      "epoch: 232 validation loss: 0.16063972\n",
      "epoch: 233 validation loss: 0.15986249\n",
      "epoch: 234 validation loss: 0.15905374\n",
      "epoch: 235 validation loss: 0.15826684\n",
      "epoch: 236 validation loss: 0.15744318\n",
      "epoch: 237 validation loss: 0.15666026\n",
      "epoch: 238 validation loss: 0.15583414\n",
      "epoch: 239 validation loss: 0.15499787\n",
      "epoch: 240 validation loss: 0.1541837\n",
      "epoch: 241 validation loss: 0.1533472\n",
      "epoch: 242 validation loss: 0.15251178\n",
      "epoch: 243 validation loss: 0.15169731\n",
      "epoch: 244 validation loss: 0.1509211\n",
      "epoch: 245 validation loss: 0.15011074\n",
      "epoch: 246 validation loss: 0.14930992\n",
      "epoch: 247 validation loss: 0.1484998\n"
     ]
    },
    {
     "name": "stdout",
     "output_type": "stream",
     "text": [
      "epoch: 248 validation loss: 0.147663\n",
      "epoch: 249 validation loss: 0.1468599\n",
      "epoch: 250 validation loss: 0.14606641\n",
      "epoch: 251 validation loss: 0.14522001\n",
      "epoch: 252 validation loss: 0.14440578\n",
      "epoch: 253 validation loss: 0.14356682\n",
      "epoch: 254 validation loss: 0.14271222\n",
      "epoch: 255 validation loss: 0.14187826\n",
      "epoch: 256 validation loss: 0.14107238\n",
      "epoch: 257 validation loss: 0.14027888\n",
      "epoch: 258 validation loss: 0.13950291\n",
      "epoch: 259 validation loss: 0.1387227\n",
      "epoch: 260 validation loss: 0.13794926\n",
      "epoch: 261 validation loss: 0.13716382\n",
      "epoch: 262 validation loss: 0.13640504\n",
      "epoch: 263 validation loss: 0.13567321\n",
      "epoch: 264 validation loss: 0.13496466\n",
      "epoch: 265 validation loss: 0.13429627\n",
      "epoch: 266 validation loss: 0.13362718\n",
      "epoch: 267 validation loss: 0.13295478\n",
      "epoch: 268 validation loss: 0.13228926\n",
      "epoch: 269 validation loss: 0.1316253\n",
      "epoch: 270 validation loss: 0.13092214\n",
      "epoch: 271 validation loss: 0.13026083\n",
      "epoch: 272 validation loss: 0.12962116\n",
      "epoch: 273 validation loss: 0.12894332\n",
      "epoch: 274 validation loss: 0.12827253\n",
      "epoch: 275 validation loss: 0.12758808\n",
      "epoch: 276 validation loss: 0.1269117\n",
      "epoch: 277 validation loss: 0.12622216\n",
      "epoch: 278 validation loss: 0.12549034\n",
      "epoch: 279 validation loss: 0.12479684\n",
      "epoch: 280 validation loss: 0.124073945\n",
      "epoch: 281 validation loss: 0.123387784\n",
      "epoch: 282 validation loss: 0.12272486\n",
      "epoch: 283 validation loss: 0.12201449\n",
      "epoch: 284 validation loss: 0.121304125\n",
      "epoch: 285 validation loss: 0.12058956\n",
      "epoch: 286 validation loss: 0.11987294\n",
      "epoch: 287 validation loss: 0.11919272\n",
      "epoch: 288 validation loss: 0.11853257\n",
      "epoch: 289 validation loss: 0.11787842\n",
      "epoch: 290 validation loss: 0.117224246\n",
      "epoch: 291 validation loss: 0.11653761\n",
      "epoch: 292 validation loss: 0.11582824\n",
      "epoch: 293 validation loss: 0.11517065\n",
      "epoch: 294 validation loss: 0.11450301\n",
      "epoch: 295 validation loss: 0.11385849\n",
      "epoch: 296 validation loss: 0.113187976\n",
      "epoch: 297 validation loss: 0.11254157\n",
      "epoch: 298 validation loss: 0.111872144\n",
      "epoch: 299 validation loss: 0.111240946\n",
      "epoch: 300 validation loss: 0.11064616\n",
      "epoch: 301 validation loss: 0.11003445\n",
      "epoch: 302 validation loss: 0.109450996\n",
      "epoch: 303 validation loss: 0.10891109\n",
      "epoch: 304 validation loss: 0.10835719\n",
      "epoch: 305 validation loss: 0.10780784\n",
      "epoch: 306 validation loss: 0.10726808\n",
      "epoch: 307 validation loss: 0.10676219\n",
      "epoch: 308 validation loss: 0.106226474\n",
      "epoch: 309 validation loss: 0.10572335\n",
      "epoch: 310 validation loss: 0.10524085\n",
      "epoch: 311 validation loss: 0.10477376\n",
      "epoch: 312 validation loss: 0.10431081\n",
      "epoch: 313 validation loss: 0.10382476\n",
      "epoch: 314 validation loss: 0.10335877\n",
      "epoch: 315 validation loss: 0.102835305\n",
      "epoch: 316 validation loss: 0.10234494\n",
      "epoch: 317 validation loss: 0.10187955\n",
      "epoch: 318 validation loss: 0.10138033\n",
      "epoch: 319 validation loss: 0.10088446\n",
      "epoch: 320 validation loss: 0.10033801\n",
      "epoch: 321 validation loss: 0.09978892\n",
      "epoch: 322 validation loss: 0.099259704\n",
      "epoch: 323 validation loss: 0.09873301\n",
      "epoch: 324 validation loss: 0.0982098\n",
      "epoch: 325 validation loss: 0.09770444\n",
      "epoch: 326 validation loss: 0.09718236\n",
      "epoch: 327 validation loss: 0.096646845\n",
      "epoch: 328 validation loss: 0.096132055\n",
      "epoch: 329 validation loss: 0.09560321\n",
      "epoch: 330 validation loss: 0.09510743\n",
      "epoch: 331 validation loss: 0.094607025\n",
      "epoch: 332 validation loss: 0.094125405\n",
      "epoch: 333 validation loss: 0.09364436\n",
      "epoch: 334 validation loss: 0.09316948\n",
      "epoch: 335 validation loss: 0.092684396\n",
      "epoch: 336 validation loss: 0.09220127\n",
      "epoch: 337 validation loss: 0.09174765\n",
      "epoch: 338 validation loss: 0.09126323\n",
      "epoch: 339 validation loss: 0.0907968\n",
      "epoch: 340 validation loss: 0.09034742\n",
      "epoch: 341 validation loss: 0.089919\n",
      "epoch: 342 validation loss: 0.089492984\n",
      "epoch: 343 validation loss: 0.08907897\n",
      "epoch: 344 validation loss: 0.08864248\n",
      "epoch: 345 validation loss: 0.08819697\n",
      "epoch: 346 validation loss: 0.08776867\n",
      "epoch: 347 validation loss: 0.087344736\n",
      "epoch: 348 validation loss: 0.08695671\n",
      "epoch: 349 validation loss: 0.08657976\n",
      "epoch: 350 validation loss: 0.08619315\n",
      "epoch: 351 validation loss: 0.08583117\n",
      "epoch: 352 validation loss: 0.08547941\n",
      "epoch: 353 validation loss: 0.08512174\n",
      "epoch: 354 validation loss: 0.0847492\n",
      "epoch: 355 validation loss: 0.084379464\n",
      "epoch: 356 validation loss: 0.08400776\n",
      "epoch: 357 validation loss: 0.08360807\n",
      "epoch: 358 validation loss: 0.08322\n",
      "epoch: 359 validation loss: 0.0828611\n",
      "epoch: 360 validation loss: 0.082504\n",
      "epoch: 361 validation loss: 0.082153626\n",
      "epoch: 362 validation loss: 0.081817925\n",
      "epoch: 363 validation loss: 0.08148311\n",
      "epoch: 364 validation loss: 0.0811833\n",
      "epoch: 365 validation loss: 0.08087951\n",
      "epoch: 366 validation loss: 0.08057146\n",
      "epoch: 367 validation loss: 0.080257945\n",
      "epoch: 368 validation loss: 0.07990536\n",
      "epoch: 369 validation loss: 0.07956377\n",
      "epoch: 370 validation loss: 0.07922397\n",
      "epoch: 371 validation loss: 0.07890145\n",
      "epoch: 372 validation loss: 0.078581154\n",
      "epoch: 373 validation loss: 0.07824675\n",
      "epoch: 374 validation loss: 0.077907555\n",
      "epoch: 375 validation loss: 0.07757445\n",
      "epoch: 376 validation loss: 0.07725196\n",
      "epoch: 377 validation loss: 0.07695613\n",
      "epoch: 378 validation loss: 0.07666783\n",
      "epoch: 379 validation loss: 0.0763779\n",
      "epoch: 380 validation loss: 0.076082945\n",
      "epoch: 381 validation loss: 0.07576436\n",
      "epoch: 382 validation loss: 0.07544565\n",
      "epoch: 383 validation loss: 0.07511724\n",
      "epoch: 384 validation loss: 0.074788496\n",
      "epoch: 385 validation loss: 0.07447244\n",
      "epoch: 386 validation loss: 0.07418183\n",
      "epoch: 387 validation loss: 0.07389383\n",
      "epoch: 388 validation loss: 0.07360576\n",
      "epoch: 389 validation loss: 0.07332611\n",
      "epoch: 390 validation loss: 0.07304764\n",
      "epoch: 391 validation loss: 0.07273302\n",
      "epoch: 392 validation loss: 0.072420225\n",
      "epoch: 393 validation loss: 0.07213722\n",
      "epoch: 394 validation loss: 0.071834594\n",
      "epoch: 395 validation loss: 0.0715408\n",
      "epoch: 396 validation loss: 0.07124845\n",
      "epoch: 397 validation loss: 0.07095613\n",
      "epoch: 398 validation loss: 0.07065758\n",
      "epoch: 399 validation loss: 0.070366554\n",
      "epoch: 400 validation loss: 0.07010636\n",
      "epoch: 401 validation loss: 0.069831446\n",
      "epoch: 402 validation loss: 0.069565386\n",
      "epoch: 403 validation loss: 0.06931653\n",
      "epoch: 404 validation loss: 0.069079906\n",
      "epoch: 405 validation loss: 0.068837956\n",
      "epoch: 406 validation loss: 0.06860746\n",
      "epoch: 407 validation loss: 0.06838267\n",
      "epoch: 408 validation loss: 0.068172656\n",
      "epoch: 409 validation loss: 0.0679747\n",
      "epoch: 410 validation loss: 0.067783445\n",
      "epoch: 411 validation loss: 0.067572\n",
      "epoch: 412 validation loss: 0.06735075\n",
      "epoch: 413 validation loss: 0.06715447\n",
      "epoch: 414 validation loss: 0.06694768\n",
      "epoch: 415 validation loss: 0.06671659\n",
      "epoch: 416 validation loss: 0.06644812\n",
      "epoch: 417 validation loss: 0.06618908\n",
      "epoch: 418 validation loss: 0.06591999\n",
      "epoch: 419 validation loss: 0.065658815\n",
      "epoch: 420 validation loss: 0.06540812\n",
      "epoch: 421 validation loss: 0.06516096\n",
      "epoch: 422 validation loss: 0.06491128\n",
      "epoch: 423 validation loss: 0.064672045\n",
      "epoch: 424 validation loss: 0.0644444\n",
      "epoch: 425 validation loss: 0.06422317\n",
      "epoch: 426 validation loss: 0.064009294\n",
      "epoch: 427 validation loss: 0.06380452\n",
      "epoch: 428 validation loss: 0.0635983\n",
      "epoch: 429 validation loss: 0.063374326\n",
      "epoch: 430 validation loss: 0.06314603\n",
      "epoch: 431 validation loss: 0.06292622\n",
      "epoch: 432 validation loss: 0.06271806\n",
      "epoch: 433 validation loss: 0.06251647\n",
      "epoch: 434 validation loss: 0.062308185\n",
      "epoch: 435 validation loss: 0.06212612\n",
      "epoch: 436 validation loss: 0.061949357\n",
      "epoch: 437 validation loss: 0.061764583\n",
      "epoch: 438 validation loss: 0.061567478\n",
      "epoch: 439 validation loss: 0.061361738\n",
      "epoch: 440 validation loss: 0.061183557\n",
      "epoch: 441 validation loss: 0.061007425\n",
      "epoch: 442 validation loss: 0.060844082\n",
      "epoch: 443 validation loss: 0.060701743\n",
      "epoch: 444 validation loss: 0.060539007\n",
      "epoch: 445 validation loss: 0.060387094\n",
      "epoch: 446 validation loss: 0.060247436\n",
      "epoch: 447 validation loss: 0.06009384\n",
      "epoch: 448 validation loss: 0.05994129\n",
      "epoch: 449 validation loss: 0.059787385\n",
      "epoch: 450 validation loss: 0.059633296\n",
      "epoch: 451 validation loss: 0.05947276\n",
      "epoch: 452 validation loss: 0.05932227\n",
      "epoch: 453 validation loss: 0.059180066\n",
      "epoch: 454 validation loss: 0.05905199\n",
      "epoch: 455 validation loss: 0.058924284\n",
      "epoch: 456 validation loss: 0.05877381\n",
      "epoch: 457 validation loss: 0.058622196\n",
      "epoch: 458 validation loss: 0.058481164\n",
      "epoch: 459 validation loss: 0.058350418\n",
      "epoch: 460 validation loss: 0.058228984\n",
      "epoch: 461 validation loss: 0.058098853\n",
      "epoch: 462 validation loss: 0.057959754\n",
      "epoch: 463 validation loss: 0.05782326\n",
      "epoch: 464 validation loss: 0.057677228\n",
      "epoch: 465 validation loss: 0.057524357\n",
      "epoch: 466 validation loss: 0.05738397\n",
      "epoch: 467 validation loss: 0.057231717\n",
      "epoch: 468 validation loss: 0.05708404\n",
      "epoch: 469 validation loss: 0.05692025\n",
      "epoch: 470 validation loss: 0.056772932\n",
      "epoch: 471 validation loss: 0.05664209\n",
      "epoch: 472 validation loss: 0.056531157\n",
      "epoch: 473 validation loss: 0.05643212\n",
      "epoch: 474 validation loss: 0.056347005\n",
      "epoch: 475 validation loss: 0.056264766\n",
      "epoch: 476 validation loss: 0.056172892\n",
      "epoch: 477 validation loss: 0.056084685\n",
      "epoch: 478 validation loss: 0.05598612\n",
      "epoch: 479 validation loss: 0.05588609\n",
      "epoch: 480 validation loss: 0.055773444\n",
      "epoch: 481 validation loss: 0.05567152\n",
      "epoch: 482 validation loss: 0.055565536\n",
      "epoch: 483 validation loss: 0.05547143\n",
      "epoch: 484 validation loss: 0.055382892\n",
      "epoch: 485 validation loss: 0.05530186\n",
      "epoch: 486 validation loss: 0.05521571\n",
      "epoch: 487 validation loss: 0.055124905\n",
      "epoch: 488 validation loss: 0.055023372\n",
      "epoch: 489 validation loss: 0.054913294\n",
      "epoch: 490 validation loss: 0.054803606\n",
      "epoch: 491 validation loss: 0.05466991\n",
      "epoch: 492 validation loss: 0.0545209\n",
      "epoch: 493 validation loss: 0.0543885\n",
      "epoch: 494 validation loss: 0.054246113\n",
      "epoch: 495 validation loss: 0.054095805\n",
      "epoch: 496 validation loss: 0.05392451\n",
      "epoch: 497 validation loss: 0.053776145\n",
      "epoch: 498 validation loss: 0.053643238\n",
      "epoch: 499 validation loss: 0.053485647\n"
     ]
    }
   ],
   "source": [
    "my_loss = []\n",
    "for epoch in range(epochs):\n",
    "    X_, Y_ = shuffle(X_train, Y_train)\n",
    "    \n",
    "    for i in range(n_batches):\n",
    "        start = i* batch_size\n",
    "        end = start + batch_size\n",
    "    \n",
    "    sess.run(train_step, feed_dict={\n",
    "        x: X_[start:end], \n",
    "        t: Y_[start:end],\n",
    "        n_batch: batch_size\n",
    "    })\n",
    "    \n",
    "    val_loss = loss.eval(session=sess, feed_dict={\n",
    "        x: X_validation, \n",
    "        t: Y_validation, \n",
    "        n_batch: N_validation\n",
    "    })\n",
    "    my_loss.append(val_loss)\n",
    "    print(\"epoch:\", epoch, \"validation loss:\", val_loss)"
   ]
  },
  {
   "cell_type": "code",
   "execution_count": 36,
   "metadata": {},
   "outputs": [
    {
     "data": {
      "text/plain": [
       "[<matplotlib.lines.Line2D at 0x1c2b2a5400>]"
      ]
     },
     "execution_count": 36,
     "metadata": {},
     "output_type": "execute_result"
    },
    {
     "data": {
      "image/png": "[encoded data removed]",
      "text/plain": [
       "<Figure size 432x288 with 1 Axes>"
      ]
     },
     "metadata": {},
     "output_type": "display_data"
    }
   ],
   "source": [
    "plt.plot(my_loss)"
   ]
  },
  {
   "cell_type": "code",
   "execution_count": 37,
   "metadata": {},
   "outputs": [
    {
     "data": {
      "text/plain": [
       "25"
      ]
     },
     "execution_count": 37,
     "metadata": {},
     "output_type": "execute_result"
    }
   ],
   "source": [
    "truncate = maxlen\n",
    "truncate"
   ]
  },
  {
   "cell_type": "code",
   "execution_count": 38,
   "metadata": {},
   "outputs": [],
   "source": [
    "Z=X[:1]"
   ]
  },
  {
   "cell_type": "code",
   "execution_count": 39,
   "metadata": {},
   "outputs": [],
   "source": [
    "original = [f[i] for i in range(maxlen)]\n",
    "predicted = [None for i in range(maxlen)]"
   ]
  },
  {
   "cell_type": "code",
   "execution_count": 23,
   "metadata": {},
   "outputs": [],
   "source": [
    "xx = np.array([1,2,3, 4, 5])"
   ]
  },
  {
   "cell_type": "code",
   "execution_count": 25,
   "metadata": {},
   "outputs": [
    {
     "data": {
      "text/plain": [
       "array([5])"
      ]
     },
     "execution_count": 25,
     "metadata": {},
     "output_type": "execute_result"
    }
   ],
   "source": [
    "xx[-1:]"
   ]
  },
  {
   "cell_type": "code",
   "execution_count": 40,
   "metadata": {},
   "outputs": [],
   "source": [
    "for i in range(length_of_sequences - maxlen +1):\n",
    "    z_ = Z[-1:]\n",
    "    y_ = y.eval(session=sess, feed_dict={\n",
    "        x: Z[-1:], \n",
    "        n_batch: 1\n",
    "    })\n",
    "    \n",
    "    sequence_ = np.concatenate(\n",
    "        (z_.reshape(maxlen, n_in)[1:], y_), axis=0).reshape(1, maxlen, n_in)\n",
    "    Z = np.append(Z, sequence_, axis=0)\n",
    "    predicted.append(y_.reshape(-1))"
   ]
  },
  {
   "cell_type": "code",
   "execution_count": 43,
   "metadata": {},
   "outputs": [
    {
     "data": {
      "text/plain": [
       "[<matplotlib.lines.Line2D at 0x1c2b4367b8>]"
      ]
     },
     "execution_count": 43,
     "metadata": {},
     "output_type": "execute_result"
    },
    {
     "data": {
      "image/png": "[encoded data removed]",
      "text/plain": [
       "<Figure size 432x288 with 1 Axes>"
      ]
     },
     "metadata": {},
     "output_type": "display_data"
    }
   ],
   "source": [
    "plt.plot(toy_problem(T, ampl=0), linestyle=\"dotted\")\n",
    "plt.plot(original, linestyle=\"dashed\")\n",
    "plt.plot(predicted)"
   ]
  },
  {
   "cell_type": "code",
   "execution_count": null,
   "metadata": {},
   "outputs": [],
   "source": [
    "from keras.layers.recurrent import SimpleRNN\n",
    "import keras\n",
    "from keras.datasets import mnist\n",
    "from keras.models import Sequential\n",
    "from keras.layers import Dense, Dropout, Flatten\n",
    "from keras.layers import Conv2D, MaxPooling2D\n",
    "from keras.layers import Activation, Dense"
   ]
  },
  {
   "cell_type": "code",
   "execution_count": null,
   "metadata": {},
   "outputs": [],
   "source": [
    "    def weight_variable(shape):\n",
    "        return tf.Variable(tf.truncated_normal(shape, stddev=0.01))\n",
    "    def bias_variable(shape):\n",
    "        return tf.Variable(tf.zeros(shape))\n"
   ]
  },
  {
   "cell_type": "code",
   "execution_count": null,
   "metadata": {},
   "outputs": [],
   "source": [
    "        \n",
    "model = Sequential()\n",
    "model.add(SimpleRNN(n_hidden, \n",
    "                  init=weight_variable, \n",
    "                  input_shape=(maxlen, n_out)))"
   ]
  },
  {
   "cell_type": "code",
   "execution_count": null,
   "metadata": {},
   "outputs": [],
   "source": [
    "model.add(Dense(n_out, init=weight_variable))"
   ]
  },
  {
   "cell_type": "code",
   "execution_count": null,
   "metadata": {},
   "outputs": [],
   "source": [
    "model.add(Activation(\"linear\"))"
   ]
  },
  {
   "cell_type": "code",
   "execution_count": null,
   "metadata": {},
   "outputs": [],
   "source": [
    "optimizer = keras.optimizers.Adam(lr=0.001, beta_1=0.9, beta_2=0.999)\n",
    "model.compile(loss=\"mean_squared_error\", optimizer=optimizer)"
   ]
  },
  {
   "cell_type": "code",
   "execution_count": null,
   "metadata": {},
   "outputs": [],
   "source": [
    "epochs = 500\n",
    "batch_size = 10\n",
    "model.fit(X_train, Y_train, batch_size=batch_size, epochs=epochs, validation_data=(X_validation, Y_validation))"
   ]
  },
  {
   "cell_type": "code",
   "execution_count": null,
   "metadata": {},
   "outputs": [],
   "source": [
    "truncate = maxlen\n",
    "Z=X[:1]\n",
    "original = [f[i] for i in range(maxlen)]\n",
    "predicted = [None for i in range(maxlen)]\n",
    "\n",
    "for i in range(length_of_sequences-maxlen+1):\n",
    "    z_ = Z[-1:]\n",
    "    y_ = model.predict(z_)\n",
    "    sequence_ = np.concatenate(\n",
    "       (z_.reshape(maxlen, n_in)[1:], y_), axis=0).reshape(1, maxlen, n_in)\n",
    "    Z=np.append(z_, sequence_, axis=0)\n",
    "    predicted.append(y_.reshape(-1))"
   ]
  },
  {
   "cell_type": "code",
   "execution_count": null,
   "metadata": {},
   "outputs": [],
   "source": [
    "plt.plot(toy_problem(T, ampl=0), linestyle=\"dotted\")\n",
    "plt.plot(original, linestyle=\"dashed\")\n",
    "plt.plot(predicted)"
   ]
  },
  {
   "cell_type": "code",
   "execution_count": null,
   "metadata": {},
   "outputs": [],
   "source": []
  }
 ],
 "metadata": {
  "kernelspec": {
   "display_name": "Python 3",
   "language": "python",
   "name": "python3"
  },
  "language_info": {
   "codemirror_mode": {
    "name": "ipython",
    "version": 3
   },
   "file_extension": ".py",
   "mimetype": "text/x-python",
   "name": "python",
   "nbconvert_exporter": "python",
   "pygments_lexer": "ipython3",
   "version": "3.6.4"
  }
 },
 "nbformat": 4,
 "nbformat_minor": 2
}
